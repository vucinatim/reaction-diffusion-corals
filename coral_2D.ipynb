{
 "cells": [
  {
   "cell_type": "code",
   "execution_count": 42,
   "metadata": {},
   "outputs": [
    {
     "data": {
      "application/vnd.jupyter.widget-view+json": {
       "model_id": "02dd6a41b9f043a790f2eec6b3484c37",
       "version_major": 2,
       "version_minor": 0
      },
      "text/plain": [
       "interactive(children=(IntSlider(value=49, description='i', max=99), Output()), _dom_classes=('widget-interact'…"
      ]
     },
     "metadata": {},
     "output_type": "display_data"
    }
   ],
   "source": [
    "import numpy as np\n",
    "import matplotlib.pyplot as plt\n",
    "from scipy import signal\n",
    "from ipywidgets import interact\n",
    "\n",
    "# Size of the 2D grid\n",
    "N = 200\n",
    "\n",
    "# Time step\n",
    "dt = 1.0\n",
    "\n",
    "# Initialize U and V\n",
    "U = np.ones((N, N))  # Initial condition for U\n",
    "V = np.zeros((N, N))  # Initial condition for V\n",
    "\n",
    "# Initialize small area in center of V = 1\n",
    "v_size = 2\n",
    "V[N//2-v_size:N//2+v_size, N//2-v_size:N//2+v_size] = 1\n",
    "\n",
    "# Parameters\n",
    "Du, Dv, F, k = 1.0, 0.5, 0.0545, 0.062  # Adjusted parameters for more dynamic pattern\n",
    "\n",
    "# Function to calculate Laplacian using convolution\n",
    "def laplacian(Z):\n",
    "    laplacian_kernel = np.array([[.05, .2, .05],\n",
    "                                 [.2, -1, .2],\n",
    "                                 [.05, .2, .05]])\n",
    "    return signal.convolve2d(Z, laplacian_kernel, mode='same', boundary='wrap')\n",
    "\n",
    "# Store each frame of the simulation\n",
    "V_frames = []\n",
    "U_frames = []\n",
    "\n",
    "# Run the simulation\n",
    "for i in range(10000):  # 10000 steps\n",
    "    U_new = U + dt * (Du * laplacian(U) - U*V*V + F*(1-U))\n",
    "    V_new = V + dt * (Dv * laplacian(V) + U*V*V - (F+k)*V)\n",
    "\n",
    "    # Clip values to keep within the range of 0 and 1\n",
    "    U_new = np.clip(U_new, 0, 1)\n",
    "    V_new = np.clip(V_new, 0, 1)\n",
    "\n",
    "    U, V = U_new, V_new\n",
    "    if i % 100 == 0:  # Store every 100th frame\n",
    "        V_frames.append(V.copy())\n",
    "        U_frames.append(U.copy())\n",
    "\n",
    "# Function to display a frame\n",
    "def display_frame(i):\n",
    "    fig, axs = plt.subplots(1, 2, figsize=(6, 3))\n",
    "\n",
    "    axs[0].imshow(V_frames[i], cmap='hot', interpolation='nearest')\n",
    "    axs[0].set_title('V')\n",
    "\n",
    "    axs[1].imshow(U_frames[i], cmap='hot', interpolation='nearest')\n",
    "    axs[1].set_title('U')\n",
    "\n",
    "    plt.tight_layout()\n",
    "    plt.show()\n",
    "\n",
    "# Use a slider to navigate through the frames\n",
    "interactive_plot = interact(display_frame, i=(0, len(V_frames)-1))\n"
   ]
  }
 ],
 "metadata": {
  "kernelspec": {
   "display_name": "rd-corals",
   "language": "python",
   "name": "python3"
  },
  "language_info": {
   "codemirror_mode": {
    "name": "ipython",
    "version": 3
   },
   "file_extension": ".py",
   "mimetype": "text/x-python",
   "name": "python",
   "nbconvert_exporter": "python",
   "pygments_lexer": "ipython3",
   "version": "3.9.6"
  },
  "orig_nbformat": 4
 },
 "nbformat": 4,
 "nbformat_minor": 2
}
