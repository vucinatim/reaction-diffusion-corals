{
 "cells": [
  {
   "cell_type": "code",
   "execution_count": 1,
   "metadata": {},
   "outputs": [
    {
     "data": {
      "application/vnd.jupyter.widget-view+json": {
       "model_id": "5e53c36871b84e2db3b70bcdbd09a0be",
       "version_major": 2,
       "version_minor": 0
      },
      "text/plain": [
       "interactive(children=(IntSlider(value=49, description='i', max=99), Output()), _dom_classes=('widget-interact'…"
      ]
     },
     "metadata": {},
     "output_type": "display_data"
    }
   ],
   "source": [
    "import numpy as np\n",
    "import matplotlib.pyplot as plt\n",
    "from scipy import signal\n",
    "from ipywidgets import interact\n",
    "\n",
    "# Size of the 2D grid\n",
    "N = 100\n",
    "\n",
    "# Time step\n",
    "dt = 1.0\n",
    "\n",
    "# Initialize U and V\n",
    "U = np.random.normal(0.50, 0.10, (N, N))  # Random initial condition for U\n",
    "V = np.random.normal(0.25, 0.10, (N, N))  # Random initial condition for V\n",
    "\n",
    "# Parameters\n",
    "Du, Dv, F, k = 0.16, 0.08, 0.055, 0.062  # Adjusted parameters for more dynamic pattern\n",
    "\n",
    "# Function to calculate Laplacian using convolution\n",
    "def laplacian(Z):\n",
    "    laplacian_kernel = np.array([[0, 1, 0],\n",
    "                                 [1, -4, 1],\n",
    "                                 [0, 1, 0]])\n",
    "    return signal.convolve2d(Z, laplacian_kernel, mode='same', boundary='wrap')\n",
    "\n",
    "# Store each frame of the simulation\n",
    "frames = []\n",
    "\n",
    "# Run the simulation\n",
    "for i in range(10000):  # 10000 steps\n",
    "    U_new = U + dt * (Du * laplacian(U) - U*V*V + F*(1-U))\n",
    "    V_new = V + dt * (Dv * laplacian(V) + U*V*V - (F+k)*V)\n",
    "\n",
    "    # Clip values to keep within the range of 0 and 1\n",
    "    U_new = np.clip(U_new, 0, 1)\n",
    "    V_new = np.clip(V_new, 0, 1)\n",
    "\n",
    "    U, V = U_new, V_new\n",
    "    if i % 100 == 0:  # Store every 100th frame\n",
    "        frames.append(V.copy())  # Store the current frame\n",
    "\n",
    "# Function to display a frame\n",
    "def display_frame(i):\n",
    "    plt.imshow(frames[i], cmap='hot', interpolation='nearest')\n",
    "    plt.show()\n",
    "\n",
    "# Use a slider to navigate through the frames\n",
    "interactive_plot = interact(display_frame, i=(0, len(frames)-1))\n"
   ]
  }
 ],
 "metadata": {
  "kernelspec": {
   "display_name": "rd-corals",
   "language": "python",
   "name": "python3"
  },
  "language_info": {
   "codemirror_mode": {
    "name": "ipython",
    "version": 3
   },
   "file_extension": ".py",
   "mimetype": "text/x-python",
   "name": "python",
   "nbconvert_exporter": "python",
   "pygments_lexer": "ipython3",
   "version": "3.9.6"
  },
  "orig_nbformat": 4
 },
 "nbformat": 4,
 "nbformat_minor": 2
}
