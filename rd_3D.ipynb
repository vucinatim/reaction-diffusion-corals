{
 "cells": [
  {
   "cell_type": "code",
   "execution_count": 10,
   "metadata": {},
   "outputs": [
    {
     "data": {
      "application/vnd.jupyter.widget-view+json": {
       "model_id": "6a7a0aedfb044d96a7d1e870a0a36397",
       "version_major": 2,
       "version_minor": 0
      },
      "text/plain": [
       "interactive(children=(IntSlider(value=4, description='i', max=9), Output()), _dom_classes=('widget-interact',)…"
      ]
     },
     "metadata": {},
     "output_type": "display_data"
    }
   ],
   "source": [
    "import numpy as np\n",
    "import matplotlib.pyplot as plt\n",
    "from scipy import signal\n",
    "from ipywidgets import interact\n",
    "\n",
    "# Size of the 3D grid\n",
    "N = 30\n",
    "\n",
    "# Time step\n",
    "dt = 0.1\n",
    "\n",
    "# Initialize U and V\n",
    "U = np.random.normal(0.50, 0.10, (N, N, N))  # Random initial condition for U\n",
    "V = np.random.normal(0.20, 0.10, (N, N, N))  # Random initial condition for V\n",
    "\n",
    "# Parameters\n",
    "Du, Dv, F, k = 0.16, 0.08, 0.055, 0.062 # Adjusted parameters for more dynamic pattern\n",
    "\n",
    "# Function to calculate Laplacian using convolution\n",
    "def laplacian(Z):\n",
    "    laplacian_kernel = np.array([\n",
    "        [[0.05, 0.2, 0.05],\n",
    "         [0.2, -1, 0.2],\n",
    "         [0.05, 0.2, 0.05]],\n",
    "        \n",
    "        [[0.2, 0.8, 0.2],\n",
    "         [0.8, -4, 0.8],\n",
    "         [0.2, 0.8, 0.2]],\n",
    "        \n",
    "        [[0.05, 0.2, 0.05],\n",
    "         [0.2, -1, 0.2],\n",
    "         [0.05, 0.2, 0.05]]\n",
    "    ])\n",
    "    return signal.convolve(Z, laplacian_kernel, mode='same', method='direct')\n",
    "\n",
    "# Store each frame of the simulation\n",
    "frames = []\n",
    "\n",
    "# Run the simulation\n",
    "for i in range(100):  # 100 steps\n",
    "    U_new = U + dt * (Du * laplacian(U) - U * V * V + F * (1 - U))\n",
    "    V_new = V + dt * (Dv * laplacian(V) + U * V * V - (F + k) * V)\n",
    "    U, V = np.clip(U_new, 0, 1), np.clip(V_new, 0, 1)\n",
    "    if i % 10 == 0:  # Store every 10th frame\n",
    "        frames.append(V.copy())  # Store the current frame\n",
    "\n",
    "fig = plt.figure()\n",
    "plt.close()\n",
    "\n",
    "def display_frame(i):\n",
    "    fig.clear()\n",
    "    ax = fig.add_subplot(111, projection='3d')\n",
    "    print('Max: %f' % np.max(frames[i]))\n",
    "    print('Min: %f' % np.min(frames[i]))\n",
    "    print('Mean: %f' % np.mean(frames[i]))\n",
    "    ax.voxels(frames[i] > 0.3, facecolors='b', alpha=1)\n",
    "    ax.set_title('Frame: %d' % i)\n",
    "    display(fig)\n",
    "\n",
    "# Use a slider to navigate through the frames\n",
    "interactive_plot = interact(display_frame, i=(0, len(frames)-1))\n"
   ]
  }
 ],
 "metadata": {
  "kernelspec": {
   "display_name": "rd-corals",
   "language": "python",
   "name": "python3"
  },
  "language_info": {
   "codemirror_mode": {
    "name": "ipython",
    "version": 3
   },
   "file_extension": ".py",
   "mimetype": "text/x-python",
   "name": "python",
   "nbconvert_exporter": "python",
   "pygments_lexer": "ipython3",
   "version": "3.9.6"
  },
  "orig_nbformat": 4
 },
 "nbformat": 4,
 "nbformat_minor": 2
}
